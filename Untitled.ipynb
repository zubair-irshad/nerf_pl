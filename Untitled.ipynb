{
 "cells": [
  {
   "cell_type": "code",
   "execution_count": 2,
   "id": "3feef743",
   "metadata": {},
   "outputs": [
    {
     "name": "stdout",
     "output_type": "stream",
     "text": [
      "(3, 4) torch.Size([480, 640, 3])\n",
      "[[False False False ... False False False]\n",
      " [False False False ... False False False]\n",
      " [False False False ... False False False]\n",
      " ...\n",
      " [False False False ... False False False]\n",
      " [False False False ... False False False]\n",
      " [False False False ... False False False]]\n",
      "masks[:,:,i] [[0 0 0 ... 0 0 0]\n",
      " [0 0 0 ... 0 0 0]\n",
      " [0 0 0 ... 0 0 0]\n",
      " ...\n",
      " [0 0 0 ... 0 0 0]\n",
      " [0 0 0 ... 0 0 0]\n",
      " [0 0 0 ... 0 0 0]]\n",
      "class 2\n",
      "instance id 1\n"
     ]
    },
    {
     "data": {
      "image/png": "[encoded data removed]",
      "text/plain": [
       "<Figure size 432x288 with 1 Axes>"
      ]
     },
     "metadata": {
      "needs_background": "light"
     },
     "output_type": "display_data"
    },
    {
     "name": "stdout",
     "output_type": "stream",
     "text": [
      "masks[:,:,i] [[0 0 0 ... 0 0 0]\n",
      " [0 0 0 ... 0 0 0]\n",
      " [0 0 0 ... 0 0 0]\n",
      " ...\n",
      " [0 0 0 ... 0 0 0]\n",
      " [0 0 0 ... 0 0 0]\n",
      " [0 0 0 ... 0 0 0]]\n",
      "class 4\n",
      "instance id 2\n"
     ]
    },
    {
     "data": {
      "image/png": "[encoded data removed]",
      "text/plain": [
       "<Figure size 432x288 with 1 Axes>"
      ]
     },
     "metadata": {
      "needs_background": "light"
     },
     "output_type": "display_data"
    },
    {
     "name": "stdout",
     "output_type": "stream",
     "text": [
      "masks[:,:,i] [[0 0 0 ... 0 0 0]\n",
      " [0 0 0 ... 0 0 0]\n",
      " [0 0 0 ... 0 0 0]\n",
      " ...\n",
      " [0 0 0 ... 0 0 0]\n",
      " [0 0 0 ... 0 0 0]\n",
      " [0 0 0 ... 0 0 0]]\n",
      "class 3\n",
      "instance id 3\n"
     ]
    },
    {
     "data": {
      "image/png": "[encoded data removed]",
      "text/plain": [
       "<Figure size 432x288 with 1 Axes>"
      ]
     },
     "metadata": {
      "needs_background": "light"
     },
     "output_type": "display_data"
    },
    {
     "name": "stdout",
     "output_type": "stream",
     "text": [
      "masks[:,:,i] [[0 0 0 ... 0 0 0]\n",
      " [0 0 0 ... 0 0 0]\n",
      " [0 0 0 ... 0 0 0]\n",
      " ...\n",
      " [0 0 0 ... 0 0 0]\n",
      " [0 0 0 ... 0 0 0]\n",
      " [0 0 0 ... 0 0 0]]\n",
      "class 6\n",
      "instance id 4\n"
     ]
    },
    {
     "data": {
      "image/png": "[encoded data removed]",
      "text/plain": [
       "<Figure size 432x288 with 1 Axes>"
      ]
     },
     "metadata": {
      "needs_background": "light"
     },
     "output_type": "display_data"
    },
    {
     "name": "stdout",
     "output_type": "stream",
     "text": [
      "masks[:,:,i] [[0 0 0 ... 0 0 0]\n",
      " [0 0 0 ... 0 0 0]\n",
      " [0 0 0 ... 0 0 0]\n",
      " ...\n",
      " [0 0 0 ... 0 0 0]\n",
      " [0 0 0 ... 0 0 0]\n",
      " [0 0 0 ... 0 0 0]]\n",
      "class 5\n",
      "instance id 5\n"
     ]
    },
    {
     "data": {
      "image/png": "[encoded data removed]",
      "text/plain": [
       "<Figure size 432x288 with 1 Axes>"
      ]
     },
     "metadata": {
      "needs_background": "light"
     },
     "output_type": "display_data"
    },
    {
     "name": "stdout",
     "output_type": "stream",
     "text": [
      "instance_ids [1, 2, 3, 4, 5]\n"
     ]
    }
   ],
   "source": [
    "import os\n",
    "from datasets.nocs_utils import load_depth, process_data, get_GT_poses\n",
    "from datasets.viz_utils import vis_ray_segmented, viz_pcd_out, plot_camera_trajectory, draw_saved_mesh_and_pose, plot_NDC_trajectory\n",
    "from datasets.ray_utils import *\n",
    "# NOCS specific data loading\n",
    "img_path = '/home/zubair/nerf_pl/data/scene_1/images/0000'\n",
    "depth_full_path = img_path + '_depth.png'\n",
    "depth = load_depth(depth_full_path)\n",
    "data_dir = '/home/zubair/Downloads/nocs_data'\n",
    "masks, coords, class_ids, instance_ids, model_list, bboxes = process_data(img_path, depth)  \n",
    "focal=580\n",
    "directions = get_ray_directions(480, 640, focal) # (H, W, 3)\n",
    "directions = directions.float()\n",
    "\n",
    "c2w = np.concatenate((np.eye(3), np.zeros((3,1))) , axis=1)\n",
    "print(c2w.shape, directions.shape)\n",
    "c2w = torch.from_numpy(c2w).float()\n",
    "rays_o, rays_d = get_rays(directions, c2w)\n",
    "\n",
    "print(masks[:,:,0].astype(np.bool))\n",
    "for i in range(masks.shape[2]):\n",
    "    plt.imshow(masks[:,:,i])\n",
    "    print(\"masks[:,:,i]\", masks[:,:,i])\n",
    "    print(\"class\",class_ids[i])\n",
    "    print(\"instance id\",instance_ids[i])\n",
    "    plt.show()\n",
    "\n",
    "print(\"instance_ids\", instance_ids)"
   ]
  },
  {
   "cell_type": "code",
   "execution_count": null,
   "id": "d4ecdb27",
   "metadata": {},
   "outputs": [],
   "source": [
    "print(masks.shape)\n",
    "%matplotlib inline\n",
    "import cv2\n",
    "import matplotlib\n",
    "import numpy as np\n",
    "import matplotlib.pyplot as plt\n",
    "for i in range(5):\n",
    "    print(i)\n",
    "    \n",
    "# for i in range(masks.shape[2]):\n",
    "#     plt.imshow(masks[:,:,i])\n",
    "#     print(\"masks[:,:,i]\", masks[:,:,i])\n",
    "#     plt.show()\n",
    "    \n",
    "def rebalance_mask(mask, fg_weight=None, bg_weight=None):\n",
    "    if fg_weight is None and bg_weight is None:\n",
    "        foreground_cnt = max(mask.sum(), 1)\n",
    "        background_cnt = max((~mask).sum(), 1)\n",
    "        balanced_weight = np.ones_like(mask).astype(np.float32)\n",
    "        balanced_weight[mask] = float(background_cnt) / foreground_cnt\n",
    "        balanced_weight[~mask] = float(foreground_cnt) / background_cnt\n",
    "    else:\n",
    "        balanced_weight = np.ones_like(mask).astype(np.float32)\n",
    "        balanced_weight[mask] = fg_weight\n",
    "        balanced_weight[~mask] = bg_weight\n",
    "#     print('fg {} bg {}'.format(foreground_cnt, background_cnt))\n",
    "    print(balanced_weight.min(), balanced_weight.max())\n",
    "    print(balanced_weight.shape)\n",
    "    cv2.normalize(balanced_weight, balanced_weight, 0, 1.0, cv2.NORM_MINMAX)\n",
    "    plt.imshow(balanced_weight)\n",
    "#     cv2.waitKey(5)\n",
    "    return balanced_weight\n",
    "\n",
    "fg_weight= 1.0\n",
    "bg_weight= 0.05\n",
    "\n",
    "for i in range(masks.shape[2]):\n",
    "    rebalance_mask(masks[:,:,i], fg_weight=fg_weight, bg_weight=bg_weight)\n",
    "#     plt.imshow(masks[:,:,i])\n",
    "#     print(\"masks[:,:,i]\", masks[:,:,i])\n",
    "#     plt.show()"
   ]
  },
  {
   "cell_type": "code",
   "execution_count": null,
   "id": "0e20fcf7",
   "metadata": {},
   "outputs": [],
   "source": [
    "def get_rays_segmented_diff(masks, class_ids, rays_o, rays_d, W, H, N_rays):\n",
    "    seg_mask = np.zeros([H, W])\n",
    "    for i in range(len(class_ids)):\n",
    "        seg_mask[masks[:,:,i] > 0] = np.array(class_ids)[i]\n",
    "\n",
    "    rays_rgb_obj = []\n",
    "    rays_rgb_obj_dir = []\n",
    "    class_ids.sort()\n",
    "    select_inds = []\n",
    "#     for i in range(len(class_ids)):\n",
    "#         rays_on_obj = np.where(seg_mask.flatten() == class_ids[i])[0]\n",
    "#         print(\"rays_on_obj\", rays_on_obj.shape)\n",
    "#         rays_on_obj = rays_on_obj[np.random.choice(rays_on_obj.shape[0], N_rays)]\n",
    "#         select_inds.append(rays_on_obj)\n",
    "#         obj_mask = np.zeros(len(rays_o), np.bool)\n",
    "#         obj_mask[rays_on_obj] = 1\n",
    "#         rays_rgb_obj.append(rays_o[obj_mask])\n",
    "#         rays_rgb_obj_dir.append(rays_d[obj_mask])\n",
    "        \n",
    "    N_rays = min(N_rays, H * W)\n",
    "    select_inds = []\n",
    "    for b in range(len(class_ids)):\n",
    "        fg_inds = np.nonzero(seg_mask == class_ids[b])\n",
    "        fg_inds = np.transpose(np.asarray(fg_inds))\n",
    "        fg_inds = fg_inds[np.random.choice(fg_inds.shape[0], N_rays)]\n",
    "        print(\"fg_inds\", fg_inds.shape)\n",
    "        select_inds.append(fg_inds)\n",
    "    select_inds = np.concatenate(select_inds, axis=0)\n",
    "    j, i = select_inds[..., 0], select_inds[..., 1]\n",
    "    select_inds = j * W + i\n",
    "    print(\"selct_inds\", select_inds.shape)\n",
    "N_rays = 2048\n",
    "get_rays_segmented(masks, class_ids, rays_o, rays_d, 640, 480, N_rays)"
   ]
  },
  {
   "cell_type": "code",
   "execution_count": null,
   "id": "95a18958",
   "metadata": {},
   "outputs": [],
   "source": []
  },
  {
   "cell_type": "code",
   "execution_count": null,
   "id": "a8ace970",
   "metadata": {},
   "outputs": [],
   "source": []
  }
 ],
 "metadata": {
  "kernelspec": {
   "display_name": "nerf_pl",
   "language": "python",
   "name": "nerf_pl"
  },
  "language_info": {
   "codemirror_mode": {
    "name": "ipython",
    "version": 3
   },
   "file_extension": ".py",
   "mimetype": "text/x-python",
   "name": "python",
   "nbconvert_exporter": "python",
   "pygments_lexer": "ipython3",
   "version": "3.6.13"
  }
 },
 "nbformat": 4,
 "nbformat_minor": 5
}
