{
 "cells": [
  {
   "cell_type": "code",
   "execution_count": 3,
   "id": "03edf40e",
   "metadata": {},
   "outputs": [
    {
     "name": "stdout",
     "output_type": "stream",
     "text": [
      "bottle/batch-1/30 bottle_batch-1_30\n"
     ]
    }
   ],
   "source": [
    "from os import path\n",
    "import glob\n",
    "import os\n",
    "import struct\n",
    "import sys\n",
    "import cv2\n",
    "import matplotlib.pyplot as plt\n",
    "import numpy as np\n",
    "import requests\n",
    "from matplotlib import image\n",
    "\n",
    "cat = 'bottle'\n",
    "batch_name = 'batch-1'\n",
    "num = 30\n",
    "video_id = cat+'/'+batch_name+'/'+str(num)\n",
    "v_id = cat+'_'+batch_name+'_'+str(num)\n",
    "\n",
    "print(video_id, v_id)\n",
    "\n",
    "download_dir = './Objectron_data/'+v_id\n",
    "public_url = \"https://storage.googleapis.com/objectron\"\n",
    "os.makedirs(download_dir, exist_ok=True)\n",
    "video_filename = f'{public_url}/videos/{str(video_id)}/video.MOV'\n",
    "public_url = \"https://storage.googleapis.com/objectron\"\n",
    "urls = [f'{public_url}/videos/{str(video_id)}/video.MOV']\n",
    "for url in urls:\n",
    "    with open(path.join(download_dir, path.basename(url)), \"wb\") as f:\n",
    "        f.write(requests.get(url).content)\n",
    "        \n",
    "url_sfm_ =  f'{public_url}/videos/{str(video_id)}/sfm_arframe.pbdata'\n",
    "url_annotation = f'{public_url}/annotations/{str(video_id)}.pbdata'\n",
    "\n",
    "with open(path.join(download_dir, v_id+'.pbdata'), \"wb\") as f:\n",
    "    f.write(requests.get(url_annotation).content)\n",
    "\n",
    "with open(path.join(download_dir, v_id+'_sfm_arframe.pbdata'), \"wb\") as f:\n",
    "    f.write(requests.get(url_sfm_).content)\n"
   ]
  },
  {
   "cell_type": "code",
   "execution_count": 4,
   "id": "c4cbd72d",
   "metadata": {},
   "outputs": [
    {
     "data": {
      "text/plain": [
       "['video.MOV',\n",
       " 'bottle_batch-1_30.pbdata',\n",
       " 'sfm_arframe.pbdata',\n",
       " 'bottle_batch-1_30_sfm_arframe.pbdata',\n",
       " '30.pbdata']"
      ]
     },
     "execution_count": 4,
     "metadata": {},
     "output_type": "execute_result"
    }
   ],
   "source": [
    "folder = '/home/zubair/nerf_pl/Objectron_data/'+str(v_id)\n",
    "os.listdir(folder)"
   ]
  },
  {
   "cell_type": "code",
   "execution_count": null,
   "id": "33b1e9fd",
   "metadata": {},
   "outputs": [],
   "source": [
    "# cd ./Objectron_data/laptop_batch-1_4\n",
    "os.makedirs('/home/zubair/nerf_pl/Objectron_data/'+str(v_id)+'/images_12')\n",
    "\n",
    "video_filename = '/home/zubair/nerf_pl/Objectron_data/'+str(v_id)+'/video.MOV'\n",
    "out_filename = '/home/zubair/nerf_pl/Objectron_data/'+str(v_id)+'/images_12/%05d.png'\n",
    "print(video_filename,out_filename)\n",
    "os.system(\"ffmpeg -i {0} -vsync vfr -vf scale=iw/12:ih/12 -start_number 0 {1}\".format(video_filename, out_filename))\n",
    "# mkdir -p \"images_12\"\n",
    "# ffmpeg -i file -vsync vfr -vf \"scale=iw/12:ih/12\" -start_number 0 \"images_12/%05d.png\""
   ]
  },
  {
   "cell_type": "code",
   "execution_count": null,
   "id": "1cd39721",
   "metadata": {},
   "outputs": [],
   "source": [
    "# Some basic setup:\n",
    "# Setup detectron2 logger\n",
    "import detectron2\n",
    "from detectron2.utils.logger import setup_logger\n",
    "setup_logger()\n",
    "\n",
    "# import some common libraries\n",
    "import numpy as np\n",
    "import os, json, cv2, random\n",
    "\n",
    "# import some common detectron2 utilities\n",
    "from detectron2 import model_zoo\n",
    "from detectron2.engine import DefaultPredictor\n",
    "from detectron2.config import get_cfg\n",
    "from detectron2.utils.visualizer import Visualizer\n",
    "from detectron2.data import MetadataCatalog, DatasetCatalog"
   ]
  },
  {
   "cell_type": "code",
   "execution_count": null,
   "id": "5870a1b4",
   "metadata": {},
   "outputs": [],
   "source": [
    "im_filename = '/home/zubair/nerf_pl/Objectron_data/'+str(v_id)+'/images_12/'+'00000.png'\n",
    "im = cv2.imread(im_filename)"
   ]
  },
  {
   "cell_type": "code",
   "execution_count": null,
   "id": "a4f343ce",
   "metadata": {},
   "outputs": [],
   "source": [
    "cfg = get_cfg()\n",
    "# add project-specific config (e.g., TensorMask) here if you're not running a model in detectron2's core library\n",
    "cfg.merge_from_file(model_zoo.get_config_file(\"COCO-InstanceSegmentation/mask_rcnn_R_50_FPN_3x.yaml\"))\n",
    "cfg.MODEL.ROI_HEADS.SCORE_THRESH_TEST = 0.6  # set threshold for this model\n",
    "# Find a model from detectron2's model zoo. You can use the https://dl.fbaipublicfiles... url as well\n",
    "cfg.MODEL.WEIGHTS = model_zoo.get_checkpoint_url(\"COCO-InstanceSegmentation/mask_rcnn_R_50_FPN_3x.yaml\")\n",
    "predictor = DefaultPredictor(cfg)\n",
    "outputs = predictor(im)"
   ]
  },
  {
   "cell_type": "code",
   "execution_count": null,
   "id": "b8775231",
   "metadata": {},
   "outputs": [],
   "source": [
    "print(outputs[\"instances\"].pred_classes)\n",
    "print(outputs[\"instances\"].pred_boxes)\n",
    "# class_names = MetadataCatalog.get(\"mydataset\").thing_classes\n",
    "# pred_class_names = list(map(lambda x: class_names[x], outputs[\"instances\"].pred_classes))\n",
    "# print(pred_class_names)"
   ]
  },
  {
   "cell_type": "code",
   "execution_count": null,
   "id": "8b4a0505",
   "metadata": {
    "scrolled": true
   },
   "outputs": [],
   "source": [
    "import matplotlib.pyplot as plt\n",
    "v = Visualizer(im[:, :, ::-1], MetadataCatalog.get(cfg.DATASETS.TRAIN[0]), scale=1.2)\n",
    "out = v.draw_instance_predictions(outputs[\"instances\"].to(\"cpu\"))\n",
    "plt.imshow(out.get_image()[:, :, ::-1])\n",
    "plt.show()\n",
    "# cv2_imshow(out.get_image()[:, :, ::-1])"
   ]
  },
  {
   "cell_type": "code",
   "execution_count": null,
   "id": "735fea4c",
   "metadata": {},
   "outputs": [],
   "source": [
    "from detectron2.data import MetadataCatalog\n",
    "for i, name in enumerate(MetadataCatalog.get(cfg.DATASETS.TRAIN[0]).thing_classes):\n",
    "    print(i, name)"
   ]
  },
  {
   "cell_type": "code",
   "execution_count": null,
   "id": "4597a25c",
   "metadata": {},
   "outputs": [],
   "source": [
    "class_name_to_id = {'laptop': 63, 'bottle': 39, 'chair': 56}\n",
    "class_name = 'chair'\n",
    "class_id = class_name_to_id[class_name]\n",
    "\n",
    "def get_valid_masks_index(mask_out, classes, class_id):\n",
    "    areas = []\n",
    "    new_masks = []\n",
    "    for m in range(mask_out.shape[0]):\n",
    "        if classes[m] == class_id:\n",
    "            pos = np.where(mask_out[m, :, :]>0)\n",
    "            center_x = np.average(pos[0])\n",
    "            center_y = np.average(pos[1])\n",
    "            xmin = np.min(pos[1])\n",
    "            xmax = np.max(pos[1])\n",
    "            ymin = np.min(pos[0])\n",
    "            ymax = np.max(pos[0])\n",
    "            areas.append(((ymax-ymin)* (xmax-xmin))/100)\n",
    "            new_masks.append(mask_out[m])\n",
    "    index = np.argmax(areas)\n",
    "    return new_masks[index]\n",
    "\n",
    "def apply_mask(image, mask, color, alpha=0.5):\n",
    "    \"\"\"Apply the given mask to the image.\n",
    "    \"\"\"\n",
    "    for c in range(3):\n",
    "        image[:, :, c] = np.where(mask == 1,\n",
    "                                  image[:, :, c] *\n",
    "                                  (1 - alpha) + alpha * color[c] * 255,\n",
    "                                  image[:, :, c])\n",
    "    return image\n",
    "\n",
    "\n",
    "def random_colors(N, bright=True):\n",
    "    \"\"\"\n",
    "    Generate random colors.\n",
    "    To get visually distinct colors, generate them in HSV space then\n",
    "    convert to RGB.\n",
    "    \"\"\"\n",
    "    brightness = 1.0 if bright else 0.7\n",
    "    hsv = [(i / N, 1, brightness) for i in range(N)]\n",
    "    colors = list(map(lambda c: colorsys.hsv_to_rgb(*c), hsv))\n",
    "    # random.shuffle(colors)\n",
    "    return colors"
   ]
  },
  {
   "cell_type": "code",
   "execution_count": null,
   "id": "f445874a",
   "metadata": {},
   "outputs": [],
   "source": [
    "import colorsys\n",
    "mask_out = outputs[\"instances\"].pred_masks.cpu().numpy()\n",
    "classes = outputs[\"instances\"].pred_classes.cpu().numpy()\n",
    "mask_out = get_valid_masks_index(mask_out, classes, class_id)\n",
    "print(mask_out.shape)\n",
    "seg_masks = mask_out.astype(np.uint8)\n",
    "colors = random_colors(mask_out.shape[0])\n",
    "im = apply_mask(im, seg_masks, colors[0])\n",
    "    \n",
    "plt.imshow(mask_out)\n",
    "plt.show()\n",
    "plt.imshow(im)\n",
    "plt.show()"
   ]
  },
  {
   "cell_type": "code",
   "execution_count": null,
   "id": "9ea70f5c",
   "metadata": {},
   "outputs": [],
   "source": [
    "print('mask_00286.png'.split('_'))"
   ]
  },
  {
   "cell_type": "code",
   "execution_count": null,
   "id": "d902e2d3",
   "metadata": {},
   "outputs": [],
   "source": []
  }
 ],
 "metadata": {
  "kernelspec": {
   "display_name": "nerf_pl",
   "language": "python",
   "name": "nerf_pl"
  },
  "language_info": {
   "codemirror_mode": {
    "name": "ipython",
    "version": 3
   },
   "file_extension": ".py",
   "mimetype": "text/x-python",
   "name": "python",
   "nbconvert_exporter": "python",
   "pygments_lexer": "ipython3",
   "version": "3.6.13"
  }
 },
 "nbformat": 4,
 "nbformat_minor": 5
}
