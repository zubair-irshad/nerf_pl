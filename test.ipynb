{
 "cells": [
  {
   "cell_type": "code",
   "execution_count": null,
   "metadata": {},
   "outputs": [],
   "source": [
    "import torch\n",
    "from utils import *\n",
    "from collections import defaultdict\n",
    "import matplotlib.pyplot as plt\n",
    "import time\n",
    "\n",
    "from models.rendering import *\n",
    "from models.nerf import *\n",
    "\n",
    "import metrics\n",
    "\n",
    "from datasets import dataset_dict\n",
    "from datasets.llff import *\n",
    "\n",
    "torch.backends.cudnn.benchmark = True\n",
    "\n",
    "img_wh = (320, 240)\n",
    "\n",
    "# dataset = dataset_dict['llff'] \\\n",
    "#           ('/home/ubuntu/data/nerf_example_data/nerf_llff_data/fern/', 'test_train', spheric_poses=False,\n",
    "#            img_wh=img_wh)\n",
    "\n",
    "# dataset = dataset_dict['llff_nocs'] \\\n",
    "#           ('data/scene_1',\n",
    "#            img_wh=img_wh)\n",
    "dataset = dataset_dict['pd_multi_ae']\n",
    "\n",
    "print(\"dataset\", dataset)"
   ]
  },
  {
   "cell_type": "code",
   "execution_count": 2,
   "metadata": {},
   "outputs": [],
   "source": [
    "from torch.utils.data import DataLoader\n",
    "from functools import partial\n",
    "from datasets.pd_multi_ae import collate_lambda_train, collate_lambda_val\n",
    "kwargs = {'root_dir': '/home/ubuntu/nerf_pl/data/PDStep/v2',\n",
    "          'img_wh': tuple(img_wh),\n",
    "          'white_back': True,\n",
    "          'model_type': 'refnerf'}\n",
    "\n",
    "train_dataset = dataset(split='val', **kwargs)\n",
    "\n",
    "dataloader =  DataLoader(train_dataset,\n",
    "                  shuffle=True,\n",
    "                  num_workers=0,\n",
    "                  batch_size=12,\n",
    "                  #batch_size=1,\n",
    "                  pin_memory=False,\n",
    "                  collate_fn = partial(collate_lambda_train, model_type='refnerf', ray_batch_size=2048)\n",
    "                  #collate_fn = partial(collate_lambda_val, model_type='refnerf')\n",
    "                        )"
   ]
  },
  {
   "cell_type": "code",
   "execution_count": 3,
   "metadata": {},
   "outputs": [
    {
     "name": "stdout",
     "output_type": "stream",
     "text": [
      "torch.Size([4, 2])\n",
      "(2, 4)\n",
      "(array([0, 1, 2, 3]), array([0, 1, 2, 3]))\n",
      "[[ True  True]\n",
      " [ True  True]\n",
      " [ True  True]\n",
      " [ True  True]]\n"
     ]
    }
   ],
   "source": [
    "import torch\n",
    "import numpy as np\n",
    "a = torch.tensor([[0.6, 0.0, 0.0, 0.0],\n",
    "[0.0, 0.4, 0.0, 0.0],\n",
    "[0.0, 0.0, 1.2, 0.0],\n",
    "[0.0, 0.0, 0.0,-0.4]])\n",
    "b = torch.nonzero(a)\n",
    "\n",
    "print(b.shape)\n",
    "c = np.nonzero(a.numpy())\n",
    "c = np.transpose(np.asarray(c))\n",
    "print(np.transpose(np.asarray(c)).shape)\n",
    "print(np.nonzero(a.numpy()))\n",
    "\n",
    "print(np.equal(b.numpy(), c))"
   ]
  },
  {
   "cell_type": "code",
   "execution_count": 4,
   "metadata": {},
   "outputs": [
    {
     "name": "stdout",
     "output_type": "stream",
     "text": [
      "len train dataset 162\n",
      "instance_dir midsize_sedan_04_emg_01_black\n",
      "instance_dir midsize_muscle_01_police_unmarkeddefault\n",
      "instance_dir suv_medium_01_body_white\n"
     ]
    },
    {
     "name": "stderr",
     "output_type": "stream",
     "text": [
      "/home/ubuntu/nerf_pl/datasets/pd_multi_ae.py:134: DeprecationWarning: LANCZOS is deprecated and will be removed in Pillow 10 (2023-07-01). Use Resampling.LANCZOS instead.\n",
      "  img = img.resize((w,h), Image.LANCZOS)\n",
      "/home/ubuntu/nerf_pl/datasets/pd_multi_ae.py:137: DeprecationWarning: LANCZOS is deprecated and will be removed in Pillow 10 (2023-07-01). Use Resampling.LANCZOS instead.\n",
      "  seg_mask = seg_mask.resize((w,h), Image.LANCZOS)\n",
      "/home/ubuntu/anaconda3/envs/nerf_pl/lib/python3.9/site-packages/torch/functional.py:445: UserWarning: torch.meshgrid: in an upcoming release, it will be required to pass the indexing argument. (Triggered internally at  ../aten/src/ATen/native/TensorShape.cpp:2157.)\n",
      "  return _VF.meshgrid(tensors, **kwargs)  # type: ignore[attr-defined]\n",
      "/home/ubuntu/nerf_pl/datasets/pd_multi_ae.py:134: DeprecationWarning: LANCZOS is deprecated and will be removed in Pillow 10 (2023-07-01). Use Resampling.LANCZOS instead.\n",
      "  img = img.resize((w,h), Image.LANCZOS)\n",
      "/home/ubuntu/nerf_pl/datasets/pd_multi_ae.py:137: DeprecationWarning: LANCZOS is deprecated and will be removed in Pillow 10 (2023-07-01). Use Resampling.LANCZOS instead.\n",
      "  seg_mask = seg_mask.resize((w,h), Image.LANCZOS)\n",
      "/home/ubuntu/nerf_pl/datasets/pd_multi_ae.py:134: DeprecationWarning: LANCZOS is deprecated and will be removed in Pillow 10 (2023-07-01). Use Resampling.LANCZOS instead.\n",
      "  img = img.resize((w,h), Image.LANCZOS)\n",
      "/home/ubuntu/nerf_pl/datasets/pd_multi_ae.py:137: DeprecationWarning: LANCZOS is deprecated and will be removed in Pillow 10 (2023-07-01). Use Resampling.LANCZOS instead.\n",
      "  seg_mask = seg_mask.resize((w,h), Image.LANCZOS)\n",
      "/home/ubuntu/nerf_pl/datasets/pd_multi_ae.py:134: DeprecationWarning: LANCZOS is deprecated and will be removed in Pillow 10 (2023-07-01). Use Resampling.LANCZOS instead.\n",
      "  img = img.resize((w,h), Image.LANCZOS)\n",
      "/home/ubuntu/nerf_pl/datasets/pd_multi_ae.py:137: DeprecationWarning: LANCZOS is deprecated and will be removed in Pillow 10 (2023-07-01). Use Resampling.LANCZOS instead.\n",
      "  seg_mask = seg_mask.resize((w,h), Image.LANCZOS)\n"
     ]
    },
    {
     "name": "stdout",
     "output_type": "stream",
     "text": [
      "instance_dir compact_sport_01_red\n",
      "instance_dir compact_mini_03_blueMetallic\n",
      "instance_dir midsize_sedan_04_emg_02_white\n",
      "instance_dir midsize_sedan_02_body_blue\n",
      "instance_dir suv_large_01_body_blue\n",
      "instance_dir compact_hatchback_01_body_gray\n"
     ]
    },
    {
     "name": "stderr",
     "output_type": "stream",
     "text": [
      "/home/ubuntu/nerf_pl/datasets/pd_multi_ae.py:134: DeprecationWarning: LANCZOS is deprecated and will be removed in Pillow 10 (2023-07-01). Use Resampling.LANCZOS instead.\n",
      "  img = img.resize((w,h), Image.LANCZOS)\n",
      "/home/ubuntu/nerf_pl/datasets/pd_multi_ae.py:137: DeprecationWarning: LANCZOS is deprecated and will be removed in Pillow 10 (2023-07-01). Use Resampling.LANCZOS instead.\n",
      "  seg_mask = seg_mask.resize((w,h), Image.LANCZOS)\n",
      "/home/ubuntu/nerf_pl/datasets/pd_multi_ae.py:134: DeprecationWarning: LANCZOS is deprecated and will be removed in Pillow 10 (2023-07-01). Use Resampling.LANCZOS instead.\n",
      "  img = img.resize((w,h), Image.LANCZOS)\n",
      "/home/ubuntu/nerf_pl/datasets/pd_multi_ae.py:137: DeprecationWarning: LANCZOS is deprecated and will be removed in Pillow 10 (2023-07-01). Use Resampling.LANCZOS instead.\n",
      "  seg_mask = seg_mask.resize((w,h), Image.LANCZOS)\n",
      "/home/ubuntu/nerf_pl/datasets/pd_multi_ae.py:134: DeprecationWarning: LANCZOS is deprecated and will be removed in Pillow 10 (2023-07-01). Use Resampling.LANCZOS instead.\n",
      "  img = img.resize((w,h), Image.LANCZOS)\n",
      "/home/ubuntu/nerf_pl/datasets/pd_multi_ae.py:137: DeprecationWarning: LANCZOS is deprecated and will be removed in Pillow 10 (2023-07-01). Use Resampling.LANCZOS instead.\n",
      "  seg_mask = seg_mask.resize((w,h), Image.LANCZOS)\n",
      "/home/ubuntu/nerf_pl/datasets/pd_multi_ae.py:134: DeprecationWarning: LANCZOS is deprecated and will be removed in Pillow 10 (2023-07-01). Use Resampling.LANCZOS instead.\n",
      "  img = img.resize((w,h), Image.LANCZOS)\n",
      "/home/ubuntu/nerf_pl/datasets/pd_multi_ae.py:137: DeprecationWarning: LANCZOS is deprecated and will be removed in Pillow 10 (2023-07-01). Use Resampling.LANCZOS instead.\n",
      "  seg_mask = seg_mask.resize((w,h), Image.LANCZOS)\n",
      "/home/ubuntu/nerf_pl/datasets/pd_multi_ae.py:134: DeprecationWarning: LANCZOS is deprecated and will be removed in Pillow 10 (2023-07-01). Use Resampling.LANCZOS instead.\n",
      "  img = img.resize((w,h), Image.LANCZOS)\n",
      "/home/ubuntu/nerf_pl/datasets/pd_multi_ae.py:137: DeprecationWarning: LANCZOS is deprecated and will be removed in Pillow 10 (2023-07-01). Use Resampling.LANCZOS instead.\n",
      "  seg_mask = seg_mask.resize((w,h), Image.LANCZOS)\n",
      "/home/ubuntu/nerf_pl/datasets/pd_multi_ae.py:134: DeprecationWarning: LANCZOS is deprecated and will be removed in Pillow 10 (2023-07-01). Use Resampling.LANCZOS instead.\n",
      "  img = img.resize((w,h), Image.LANCZOS)\n",
      "/home/ubuntu/nerf_pl/datasets/pd_multi_ae.py:137: DeprecationWarning: LANCZOS is deprecated and will be removed in Pillow 10 (2023-07-01). Use Resampling.LANCZOS instead.\n",
      "  seg_mask = seg_mask.resize((w,h), Image.LANCZOS)\n"
     ]
    },
    {
     "name": "stdout",
     "output_type": "stream",
     "text": [
      "instance_dir suv_medium_01_body_brown\n",
      "instance_dir compact_mini_03_white\n",
      "instance_dir midsize_sedan_01_body_red\n",
      "img torch.Size([3, 116, 261])\n",
      "img torch.Size([3, 115, 254])\n",
      "img torch.Size([3, 112, 255])\n",
      "img torch.Size([3, 156, 214])\n",
      "img torch.Size([3, 181, 154])\n",
      "img torch.Size([3, 126, 246])\n",
      "img torch.Size([3, 174, 159])\n",
      "img torch.Size([3, 128, 273])\n",
      "img torch.Size([3, 97, 211])\n",
      "img torch.Size([3, 112, 209])\n",
      "img torch.Size([3, 96, 104])\n",
      "img torch.Size([3, 134, 263])\n",
      "src_imgs torch.Size([12, 3, 128, 128])\n",
      "rays_o torch.Size([12, 2048, 3])\n",
      "rays_d torch.Size([12, 2048, 3])\n",
      "viewdirs torch.Size([12, 2048, 3])\n",
      "target torch.Size([12, 2048, 3])\n",
      "radii torch.Size([12, 2048, 1])\n",
      "multloss (12, 1)\n",
      "normals (12, 2048, 3)\n",
      "instance_mask torch.Size([12, 2048, 1])\n",
      "instance_dir suv_medium_02_blue\n",
      "instance_dir fullsize_sedan_03_blue\n"
     ]
    },
    {
     "name": "stderr",
     "output_type": "stream",
     "text": [
      "/home/ubuntu/nerf_pl/datasets/pd_multi_ae.py:134: DeprecationWarning: LANCZOS is deprecated and will be removed in Pillow 10 (2023-07-01). Use Resampling.LANCZOS instead.\n",
      "  img = img.resize((w,h), Image.LANCZOS)\n",
      "/home/ubuntu/nerf_pl/datasets/pd_multi_ae.py:137: DeprecationWarning: LANCZOS is deprecated and will be removed in Pillow 10 (2023-07-01). Use Resampling.LANCZOS instead.\n",
      "  seg_mask = seg_mask.resize((w,h), Image.LANCZOS)\n",
      "/home/ubuntu/nerf_pl/datasets/pd_multi_ae.py:134: DeprecationWarning: LANCZOS is deprecated and will be removed in Pillow 10 (2023-07-01). Use Resampling.LANCZOS instead.\n",
      "  img = img.resize((w,h), Image.LANCZOS)\n",
      "/home/ubuntu/nerf_pl/datasets/pd_multi_ae.py:137: DeprecationWarning: LANCZOS is deprecated and will be removed in Pillow 10 (2023-07-01). Use Resampling.LANCZOS instead.\n",
      "  seg_mask = seg_mask.resize((w,h), Image.LANCZOS)\n",
      "/home/ubuntu/nerf_pl/datasets/pd_multi_ae.py:134: DeprecationWarning: LANCZOS is deprecated and will be removed in Pillow 10 (2023-07-01). Use Resampling.LANCZOS instead.\n",
      "  img = img.resize((w,h), Image.LANCZOS)\n",
      "/home/ubuntu/nerf_pl/datasets/pd_multi_ae.py:137: DeprecationWarning: LANCZOS is deprecated and will be removed in Pillow 10 (2023-07-01). Use Resampling.LANCZOS instead.\n",
      "  seg_mask = seg_mask.resize((w,h), Image.LANCZOS)\n",
      "/home/ubuntu/nerf_pl/datasets/pd_multi_ae.py:134: DeprecationWarning: LANCZOS is deprecated and will be removed in Pillow 10 (2023-07-01). Use Resampling.LANCZOS instead.\n",
      "  img = img.resize((w,h), Image.LANCZOS)\n",
      "/home/ubuntu/nerf_pl/datasets/pd_multi_ae.py:137: DeprecationWarning: LANCZOS is deprecated and will be removed in Pillow 10 (2023-07-01). Use Resampling.LANCZOS instead.\n",
      "  seg_mask = seg_mask.resize((w,h), Image.LANCZOS)\n",
      "/home/ubuntu/nerf_pl/datasets/pd_multi_ae.py:134: DeprecationWarning: LANCZOS is deprecated and will be removed in Pillow 10 (2023-07-01). Use Resampling.LANCZOS instead.\n",
      "  img = img.resize((w,h), Image.LANCZOS)\n",
      "/home/ubuntu/nerf_pl/datasets/pd_multi_ae.py:137: DeprecationWarning: LANCZOS is deprecated and will be removed in Pillow 10 (2023-07-01). Use Resampling.LANCZOS instead.\n",
      "  seg_mask = seg_mask.resize((w,h), Image.LANCZOS)\n"
     ]
    },
    {
     "name": "stdout",
     "output_type": "stream",
     "text": [
      "instance_dir compact_sport_01_metallic\n",
      "instance_dir midsize_sedan_03_body_silver\n",
      "instance_dir compact_mini_01_body_green\n",
      "instance_dir midsize_muscle_01_police_01_blackWhite\n",
      "instance_dir midsize_hatchback_01_body_green\n",
      "instance_dir pickup_compact_01_red\n",
      "instance_dir compact_luxury_001_body_gunmetal\n"
     ]
    },
    {
     "name": "stderr",
     "output_type": "stream",
     "text": [
      "/home/ubuntu/nerf_pl/datasets/pd_multi_ae.py:134: DeprecationWarning: LANCZOS is deprecated and will be removed in Pillow 10 (2023-07-01). Use Resampling.LANCZOS instead.\n",
      "  img = img.resize((w,h), Image.LANCZOS)\n",
      "/home/ubuntu/nerf_pl/datasets/pd_multi_ae.py:137: DeprecationWarning: LANCZOS is deprecated and will be removed in Pillow 10 (2023-07-01). Use Resampling.LANCZOS instead.\n",
      "  seg_mask = seg_mask.resize((w,h), Image.LANCZOS)\n",
      "/home/ubuntu/nerf_pl/datasets/pd_multi_ae.py:134: DeprecationWarning: LANCZOS is deprecated and will be removed in Pillow 10 (2023-07-01). Use Resampling.LANCZOS instead.\n",
      "  img = img.resize((w,h), Image.LANCZOS)\n",
      "/home/ubuntu/nerf_pl/datasets/pd_multi_ae.py:137: DeprecationWarning: LANCZOS is deprecated and will be removed in Pillow 10 (2023-07-01). Use Resampling.LANCZOS instead.\n",
      "  seg_mask = seg_mask.resize((w,h), Image.LANCZOS)\n",
      "/home/ubuntu/nerf_pl/datasets/pd_multi_ae.py:134: DeprecationWarning: LANCZOS is deprecated and will be removed in Pillow 10 (2023-07-01). Use Resampling.LANCZOS instead.\n",
      "  img = img.resize((w,h), Image.LANCZOS)\n",
      "/home/ubuntu/nerf_pl/datasets/pd_multi_ae.py:137: DeprecationWarning: LANCZOS is deprecated and will be removed in Pillow 10 (2023-07-01). Use Resampling.LANCZOS instead.\n",
      "  seg_mask = seg_mask.resize((w,h), Image.LANCZOS)\n",
      "/home/ubuntu/nerf_pl/datasets/pd_multi_ae.py:134: DeprecationWarning: LANCZOS is deprecated and will be removed in Pillow 10 (2023-07-01). Use Resampling.LANCZOS instead.\n",
      "  img = img.resize((w,h), Image.LANCZOS)\n",
      "/home/ubuntu/nerf_pl/datasets/pd_multi_ae.py:137: DeprecationWarning: LANCZOS is deprecated and will be removed in Pillow 10 (2023-07-01). Use Resampling.LANCZOS instead.\n",
      "  seg_mask = seg_mask.resize((w,h), Image.LANCZOS)\n",
      "/home/ubuntu/nerf_pl/datasets/pd_multi_ae.py:134: DeprecationWarning: LANCZOS is deprecated and will be removed in Pillow 10 (2023-07-01). Use Resampling.LANCZOS instead.\n",
      "  img = img.resize((w,h), Image.LANCZOS)\n",
      "/home/ubuntu/nerf_pl/datasets/pd_multi_ae.py:137: DeprecationWarning: LANCZOS is deprecated and will be removed in Pillow 10 (2023-07-01). Use Resampling.LANCZOS instead.\n",
      "  seg_mask = seg_mask.resize((w,h), Image.LANCZOS)\n",
      "/home/ubuntu/nerf_pl/datasets/pd_multi_ae.py:134: DeprecationWarning: LANCZOS is deprecated and will be removed in Pillow 10 (2023-07-01). Use Resampling.LANCZOS instead.\n",
      "  img = img.resize((w,h), Image.LANCZOS)\n",
      "/home/ubuntu/nerf_pl/datasets/pd_multi_ae.py:137: DeprecationWarning: LANCZOS is deprecated and will be removed in Pillow 10 (2023-07-01). Use Resampling.LANCZOS instead.\n",
      "  seg_mask = seg_mask.resize((w,h), Image.LANCZOS)\n"
     ]
    },
    {
     "name": "stdout",
     "output_type": "stream",
     "text": [
      "instance_dir van_micro_01_silver\n",
      "instance_dir fullsize_sedan_02_blue\n",
      "instance_dir midsize_hatchback_01_body_white\n",
      "img torch.Size([3, 156, 230])\n",
      "img torch.Size([3, 104, 270])\n",
      "img torch.Size([3, 77, 192])\n",
      "img torch.Size([3, 80, 99])\n",
      "img torch.Size([3, 105, 187])\n",
      "img torch.Size([3, 155, 165])\n",
      "img torch.Size([3, 111, 260])\n",
      "img torch.Size([3, 185, 145])\n",
      "img torch.Size([3, 171, 238])\n",
      "img torch.Size([3, 119, 158])\n",
      "img torch.Size([3, 101, 248])\n",
      "img torch.Size([3, 173, 239])\n"
     ]
    },
    {
     "name": "stderr",
     "output_type": "stream",
     "text": [
      "/home/ubuntu/nerf_pl/datasets/pd_multi_ae.py:134: DeprecationWarning: LANCZOS is deprecated and will be removed in Pillow 10 (2023-07-01). Use Resampling.LANCZOS instead.\n",
      "  img = img.resize((w,h), Image.LANCZOS)\n",
      "/home/ubuntu/nerf_pl/datasets/pd_multi_ae.py:137: DeprecationWarning: LANCZOS is deprecated and will be removed in Pillow 10 (2023-07-01). Use Resampling.LANCZOS instead.\n",
      "  seg_mask = seg_mask.resize((w,h), Image.LANCZOS)\n",
      "/home/ubuntu/nerf_pl/datasets/pd_multi_ae.py:134: DeprecationWarning: LANCZOS is deprecated and will be removed in Pillow 10 (2023-07-01). Use Resampling.LANCZOS instead.\n",
      "  img = img.resize((w,h), Image.LANCZOS)\n",
      "/home/ubuntu/nerf_pl/datasets/pd_multi_ae.py:137: DeprecationWarning: LANCZOS is deprecated and will be removed in Pillow 10 (2023-07-01). Use Resampling.LANCZOS instead.\n",
      "  seg_mask = seg_mask.resize((w,h), Image.LANCZOS)\n",
      "/home/ubuntu/nerf_pl/datasets/pd_multi_ae.py:134: DeprecationWarning: LANCZOS is deprecated and will be removed in Pillow 10 (2023-07-01). Use Resampling.LANCZOS instead.\n",
      "  img = img.resize((w,h), Image.LANCZOS)\n",
      "/home/ubuntu/nerf_pl/datasets/pd_multi_ae.py:137: DeprecationWarning: LANCZOS is deprecated and will be removed in Pillow 10 (2023-07-01). Use Resampling.LANCZOS instead.\n",
      "  seg_mask = seg_mask.resize((w,h), Image.LANCZOS)\n"
     ]
    }
   ],
   "source": [
    "print(\"len train dataset\", len(train_dataset))\n",
    "count = 0\n",
    "for i,data in enumerate(dataloader):\n",
    "    if i>0:\n",
    "        break\n",
    "#     imgs, rgbs, rays, rays_d, view_dirs, instance_masks, radii, multloss, normals = data\n",
    "\n",
    "    for k,v in data.items():\n",
    "        print(k,v.shape)\n",
    "    \n",
    "    #print(\"imgs, rgbs, rays\", imgs.shape, rgbs.shape, rays.shape, instance_masks.shape, radii.shape)\n",
    "#     for k,v in data.items():\n",
    "#         print(\"k, v\", k, v.shape)\n",
    "#     count+=1\n",
    "# print(count)\n",
    "#     print(\"data_rgb\", data['rgbs'].shape)"
   ]
  },
  {
   "cell_type": "code",
   "execution_count": 7,
   "metadata": {},
   "outputs": [
    {
     "name": "stdout",
     "output_type": "stream",
     "text": [
      "rays_o torch.Size([24576, 3])\n"
     ]
    }
   ],
   "source": [
    "\n",
    "B, N, _ = data[\"rays_o\"].shape\n",
    "\n",
    "rays_o, rays_d, radii = data[\"rays_o\"].reshape(-1,3), data[\"rays_d\"].reshape(-1,3), data[\"radii\"].reshape(-1,3)\n",
    "\n",
    "print(\"rays_o\", rays_o.shape)"
   ]
  },
  {
   "cell_type": "code",
   "execution_count": null,
   "metadata": {},
   "outputs": [],
   "source": [
    "from models.resnet_encoder import MultiHeadImgEncoder\n",
    "encoder = MultiHeadImgEncoder()\n",
    "\n",
    "latents = encoder(data[\"src_imgs\"])\n",
    "\n",
    "print(\"latents\", latents[\"density\"].shape)\n",
    "print(\"latents\", latents[\"color\"].shape)"
   ]
  },
  {
   "cell_type": "code",
   "execution_count": null,
   "metadata": {},
   "outputs": [],
   "source": [
    "import matplotlib.pyplot as plt\n",
    "\n",
    "print(data[\"img_wh\"])\n",
    "\n",
    "w,h = data[\"img_wh\"]\n",
    "print(data[\"src_imgs\"].shape)\n",
    "plt.imshow(data[\"src_imgs\"].permute(1,2,0).numpy())\n",
    "plt.show()\n",
    "\n",
    "plt.imshow(data[\"target\"].reshape(h,w,3).numpy())\n",
    "plt.show()\n",
    "    "
   ]
  },
  {
   "cell_type": "code",
   "execution_count": null,
   "metadata": {},
   "outputs": [],
   "source": [
    "embedding_xyz = Embedding(10)\n",
    "embedding_dir = Embedding(4)\n",
    "\n",
    "nerf_coarse = NeRF()\n",
    "nerf_fine = NeRF()\n",
    "\n",
    "# ckpt_path = 'ckpts_old/fern/epoch=29.ckpt'\n",
    "ckpt_path = 'ckpts_old/lego/epoch=15.ckpt'\n",
    "\n",
    "load_ckpt(nerf_coarse, ckpt_path, model_name='nerf_coarse')\n",
    "load_ckpt(nerf_fine, ckpt_path, model_name='nerf_fine')\n",
    "\n",
    "nerf_coarse.cuda().eval()\n",
    "nerf_fine.cuda().eval();"
   ]
  },
  {
   "cell_type": "code",
   "execution_count": null,
   "metadata": {},
   "outputs": [],
   "source": [
    "models = {'coarse': nerf_coarse, 'fine': nerf_fine}\n",
    "embeddings = {'xyz': embedding_xyz, 'dir': embedding_dir}\n",
    "\n",
    "N_samples = 64\n",
    "N_importance = 64\n",
    "use_disp = False\n",
    "chunk = 1024*32*4\n",
    "\n",
    "@torch.no_grad()\n",
    "def f(rays):\n",
    "    \"\"\"Do batched inference on rays using chunk.\"\"\"\n",
    "    B = rays.shape[0]\n",
    "    results = defaultdict(list)\n",
    "    for i in range(0, B, chunk):\n",
    "        rendered_ray_chunks = \\\n",
    "            render_rays(models,\n",
    "                        embeddings,\n",
    "                        rays[i:i+chunk],\n",
    "                        N_samples,\n",
    "                        use_disp,\n",
    "                        0,\n",
    "                        0,\n",
    "                        N_importance,\n",
    "                        chunk,\n",
    "                        dataset.white_back,\n",
    "                        test_time=True)\n",
    "\n",
    "        for k, v in rendered_ray_chunks.items():\n",
    "            results[k] += [v]\n",
    "\n",
    "    for k, v in results.items():\n",
    "        results[k] = torch.cat(v, 0)\n",
    "    return results"
   ]
  },
  {
   "cell_type": "code",
   "execution_count": null,
   "metadata": {},
   "outputs": [],
   "source": [
    "sample = dataset[0]\n",
    "rays = sample['rays'].cuda()\n",
    "\n",
    "t = time.time()\n",
    "results = f(rays)\n",
    "torch.cuda.synchronize()\n",
    "print(time.time()-t)"
   ]
  },
  {
   "cell_type": "code",
   "execution_count": null,
   "metadata": {},
   "outputs": [],
   "source": [
    "img_gt = sample['rgbs'].view(img_wh[1], img_wh[0], 3)\n",
    "img_pred = results['rgb_fine'].view(img_wh[1], img_wh[0], 3).cpu().numpy()\n",
    "alpha_pred = results['opacity_fine'].view(img_wh[1], img_wh[0]).cpu().numpy()\n",
    "depth_pred = results['depth_fine'].view(img_wh[1], img_wh[0])\n",
    "\n",
    "print('PSNR', metrics.psnr(img_gt, img_pred).item())\n",
    "\n",
    "plt.subplots(figsize=(15, 8))\n",
    "plt.tight_layout()\n",
    "plt.subplot(221)\n",
    "plt.title('GT')\n",
    "plt.imshow(img_gt)\n",
    "plt.subplot(222)\n",
    "plt.title('pred')\n",
    "plt.imshow(img_pred)\n",
    "plt.subplot(223)\n",
    "plt.title('depth')\n",
    "plt.imshow(visualize_depth(depth_pred).permute(1,2,0))\n",
    "plt.show()"
   ]
  },
  {
   "cell_type": "code",
   "execution_count": null,
   "metadata": {},
   "outputs": [],
   "source": []
  }
 ],
 "metadata": {
  "kernelspec": {
   "display_name": "nerf_pl",
   "language": "python",
   "name": "nerf_pl"
  },
  "language_info": {
   "codemirror_mode": {
    "name": "ipython",
    "version": 3
   },
   "file_extension": ".py",
   "mimetype": "text/x-python",
   "name": "python",
   "nbconvert_exporter": "python",
   "pygments_lexer": "ipython3",
   "version": "3.9.12"
  }
 },
 "nbformat": 4,
 "nbformat_minor": 4
}
